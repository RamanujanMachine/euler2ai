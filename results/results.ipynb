{
 "cells": [
  {
   "cell_type": "markdown",
   "id": "2077dfe4",
   "metadata": {},
   "source": [
    "<img src=\"../images/unification.png\" alt=\"Unification, Fig. 6\" width=\"85%\"/>"
   ]
  },
  {
   "cell_type": "markdown",
   "id": "b5a272fc",
   "metadata": {},
   "source": [
    "---"
   ]
  },
  {
   "cell_type": "markdown",
   "id": "ba8a820a",
   "metadata": {},
   "source": [
    "This notebook presents the results of the paper (Table 4) and showcases automatically discovered and proven mathematical formula equivalences (stored in the coboundary graph).  \n",
    "The [results colab](https://colab.research.google.com/drive/13EC9hwEhoA_xvEu_7p_9wbIl2QjDknqC?usp=sharing) complements with an overview of the package and specific examples."
   ]
  },
  {
   "cell_type": "markdown",
   "id": "1b1e58ee",
   "metadata": {},
   "source": [
    "Please create and activate a new virtual environment and then install our *unifier* package to proceed.  \n",
    "  \n",
    "After installing the unifier package:"
   ]
  },
  {
   "cell_type": "code",
   "execution_count": 10,
   "id": "eb3f56f4",
   "metadata": {},
   "outputs": [],
   "source": [
    "import pickle\n",
    "import sympy as sp\n",
    "import networkx as nx\n",
    "import matplotlib.pyplot as plt\n",
    "import random\n",
    "from IPython.display import display\n",
    "\n",
    "from unifier import PCF\n",
    "\n",
    "n = sp.symbols('n')"
   ]
  },
  {
   "cell_type": "code",
   "execution_count": 11,
   "id": "bf0f5f5e",
   "metadata": {},
   "outputs": [],
   "source": [
    "PCFS = \"../dataset/pcfs.pkl\"            # formulas in canonical form\n",
    "CMFPCFS = \"../dataset/cmf_pcfs.pkl\"     # cmf representatives for unification\n",
    "GRAPH = \"coboundary_graph.pkl\"          # resulting coboundary graph\n",
    "\n",
    "with open(PCFS, \"rb\") as f:\n",
    "    pcfs = pickle.load(f)\n",
    "\n",
    "with open(CMFPCFS, \"rb\") as f:\n",
    "    cmf_pcfs = pickle.load(f)\n",
    "\n",
    "with open(GRAPH, \"rb\") as f:\n",
    "    graph = pickle.load(f)"
   ]
  },
  {
   "cell_type": "markdown",
   "id": "412c389b",
   "metadata": {},
   "source": [
    "Preprocess the graph to remove unsuccessful edges:"
   ]
  },
  {
   "cell_type": "code",
   "execution_count": 12,
   "id": "9c54c217",
   "metadata": {},
   "outputs": [],
   "source": [
    "def remove_unsuccessful_edges(graph):\n",
    "\n",
    "    \"\"\"\n",
    "    Remove edges from the graph that do not have a successful transformation.\n",
    "    Such \"attempted edges\" were kept for internal use.\n",
    "    \"\"\"\n",
    "    \n",
    "    edges_to_remove = []\n",
    "    for u, v, data in graph.edges(data=True):\n",
    "        if data.get('transformation') is None:\n",
    "            edges_to_remove.append((u, v))\n",
    "    \n",
    "    for edge in edges_to_remove:\n",
    "        graph.remove_edge(*edge)\n",
    "    \n",
    "    return graph"
   ]
  },
  {
   "cell_type": "code",
   "execution_count": 13,
   "id": "70dbf12d",
   "metadata": {},
   "outputs": [
    {
     "name": "stdout",
     "output_type": "stream",
     "text": [
      "Numer of edges: 121\n"
     ]
    }
   ],
   "source": [
    "graph = remove_unsuccessful_edges(graph)\n",
    "print('Numer of edges:', len(graph.edges))"
   ]
  },
  {
   "cell_type": "markdown",
   "id": "544695df",
   "metadata": {},
   "source": [
    "Contents  \n",
    "- [How the equivalences found work](#how-the-equivalences-found-work)\n",
    "- [Derive equivalence and unification statistics](#derive-equivalence-and-unification-statistics) from the coboundary graph (recreate Table 4 from the paper).  \n",
    "- [View the coboundary graph](#visualize-the-coboundary-graph).\n",
    "---"
   ]
  },
  {
   "cell_type": "markdown",
   "id": "89153ae0",
   "metadata": {},
   "source": [
    "A look at the formulas:"
   ]
  },
  {
   "cell_type": "code",
   "execution_count": 3,
   "id": "2bb9f882",
   "metadata": {},
   "outputs": [
    {
     "data": {
      "text/html": [
       "<div>\n",
       "<style scoped>\n",
       "    .dataframe tbody tr th:only-of-type {\n",
       "        vertical-align: middle;\n",
       "    }\n",
       "\n",
       "    .dataframe tbody tr th {\n",
       "        vertical-align: top;\n",
       "    }\n",
       "\n",
       "    .dataframe thead th {\n",
       "        text-align: right;\n",
       "    }\n",
       "</style>\n",
       "<table border=\"1\" class=\"dataframe\">\n",
       "  <thead>\n",
       "    <tr style=\"text-align: right;\">\n",
       "      <th></th>\n",
       "      <th>ab</th>\n",
       "      <th>a</th>\n",
       "      <th>b</th>\n",
       "      <th>limit</th>\n",
       "      <th>sources</th>\n",
       "      <th>delta</th>\n",
       "      <th>convergence_rate</th>\n",
       "    </tr>\n",
       "  </thead>\n",
       "  <tbody>\n",
       "    <tr>\n",
       "      <th>0</th>\n",
       "      <td>(2, n**2)</td>\n",
       "      <td>2</td>\n",
       "      <td>n**2</td>\n",
       "      <td>2/(4 - pi)</td>\n",
       "      <td>[{'type': 'cf', 'formula': 'PCF(2 , n**2)', 'f...</td>\n",
       "      <td>-0.99791</td>\n",
       "      <td>0.00294</td>\n",
       "    </tr>\n",
       "    <tr>\n",
       "      <th>1</th>\n",
       "      <td>(1, n**2 + n)</td>\n",
       "      <td>1</td>\n",
       "      <td>n**2 + n</td>\n",
       "      <td>2/(pi - 2)</td>\n",
       "      <td>[{'type': 'cf', 'formula': 'PCF(1, n**2 + n)',...</td>\n",
       "      <td>-0.99915</td>\n",
       "      <td>0.00140</td>\n",
       "    </tr>\n",
       "    <tr>\n",
       "      <th>2</th>\n",
       "      <td>(4, 4*n**2 - 1)</td>\n",
       "      <td>4</td>\n",
       "      <td>4*n**2 - 1</td>\n",
       "      <td>(2 + pi)/(-2 + pi)</td>\n",
       "      <td>[{'type': 'cf', 'formula': 'PCF(4 , 4*n**2 - 1...</td>\n",
       "      <td>-0.99867</td>\n",
       "      <td>0.00288</td>\n",
       "    </tr>\n",
       "  </tbody>\n",
       "</table>\n",
       "</div>"
      ],
      "text/plain": [
       "                ab  a           b               limit  \\\n",
       "0        (2, n**2)  2        n**2          2/(4 - pi)   \n",
       "1    (1, n**2 + n)  1    n**2 + n          2/(pi - 2)   \n",
       "2  (4, 4*n**2 - 1)  4  4*n**2 - 1  (2 + pi)/(-2 + pi)   \n",
       "\n",
       "                                             sources    delta  \\\n",
       "0  [{'type': 'cf', 'formula': 'PCF(2 , n**2)', 'f... -0.99791   \n",
       "1  [{'type': 'cf', 'formula': 'PCF(1, n**2 + n)',... -0.99915   \n",
       "2  [{'type': 'cf', 'formula': 'PCF(4 , 4*n**2 - 1... -0.99867   \n",
       "\n",
       "   convergence_rate  \n",
       "0           0.00294  \n",
       "1           0.00140  \n",
       "2           0.00288  "
      ]
     },
     "execution_count": 3,
     "metadata": {},
     "output_type": "execute_result"
    }
   ],
   "source": [
    "pcfs.head(3)"
   ]
  },
  {
   "cell_type": "markdown",
   "id": "c6c1bf25",
   "metadata": {},
   "source": [
    "# How the equivalences found work"
   ]
  },
  {
   "cell_type": "markdown",
   "id": "6cec2b87",
   "metadata": {},
   "source": [
    "Before going into numbers, let's see a random example for an equivalence found by the algorithm.  \n",
    "  \n",
    "These transformations are of the form:  \n",
    "Fold1 ( formula1 ) * U( n + 1 ) == U( n ) * Fold2 ( formula2 )  \n",
    "where both formulas are represented by their recurrences.  \n",
    "\n",
    "This can also be written as  \n",
    "U( n )^( -1 ) * Fold1 ( formula1 ) * U( n + 1 ) == Fold2 ( formula2 )  \n",
    "or  \n",
    "Coboundary( Fold1 ( formula1 ) ) == Fold2 ( formula2 )  \n",
    "which is the format adopted in our package"
   ]
  },
  {
   "cell_type": "code",
   "execution_count": 6,
   "id": "d4b62a85",
   "metadata": {},
   "outputs": [],
   "source": [
    "def check_edge(graph, node1, node2, verbose=False):\n",
    "    \"\"\"\n",
    "    Applies the transformation between two formulas in canonical form (nodes) in the graph.\n",
    "    Raises an error if the edge does not exist.\n",
    "    \"\"\"\n",
    "\n",
    "    assert node1 in graph.nodes, f\"Node1 not in graph: {node1}\"\n",
    "    assert node2 in graph.nodes, f\"Node2 not in graph: {node2}\"\n",
    "    assert graph.has_edge(node1, node2), f\"Edge not found: {node1} -> {node2}\"\n",
    "\n",
    "    node1_data = graph.nodes[node1]\n",
    "    pcf1 = PCF(sp.sympify(node1_data['a']), sp.sympify(node1_data['b']))\n",
    "    \n",
    "    node2_data = graph.nodes[node2]\n",
    "    pcf2 = PCF(sp.sympify(node2_data['a']), sp.sympify(node2_data['b']))\n",
    "\n",
    "    transformation = graph.edges[node1, node2]['transformation']\n",
    "    if transformation is None:\n",
    "        assert False, f\"Transformation not found for edge {node1} -> {node2}\"\n",
    "    fold1, fold2, coboundary = transformation\n",
    "\n",
    "    folded1 = fold1(pcf1.CM())\n",
    "    coboundary_folded1 = coboundary(folded1)\n",
    "    folded2 = fold2(pcf2.CM())\n",
    "\n",
    "    truth = sp.simplify(coboundary_folded1 - folded2) == sp.zeros(2, 2)\n",
    "\n",
    "    if verbose:\n",
    "        print(f\"Checking edge {node1} -> {node2}\")\n",
    "        \n",
    "        print(f\"PCF1:\\n {pcf1}\")\n",
    "        print(f\"PCF2:\\n {pcf2}\")\n",
    "        print(f\"Fold1 transform:\\n {fold1}\")\n",
    "        print(f\"Fold2 transform:\\n {fold2}\")\n",
    "        print(f\"Coboundary transform:\\n {coboundary}\")\n",
    "\n",
    "        print(\"\\nFold1 ( PCF1 ):\\n\")\n",
    "        display(folded1)\n",
    "        print(\"Coboundary ( Fold1 ( PCF1 ) ):\\n\")\n",
    "        display(coboundary_folded1)\n",
    "        print(\"==?==\")\n",
    "        print(\"Fold2 ( PCF2 ):\\n\")\n",
    "        display(folded2)\n",
    "\n",
    "        print(\"Success:\\n\", truth)\n",
    "    \n",
    "    return truth"
   ]
  },
  {
   "cell_type": "code",
   "execution_count": 7,
   "id": "dad42282",
   "metadata": {},
   "outputs": [
    {
     "name": "stdout",
     "output_type": "stream",
     "text": [
      "Checking edge ('21840*n**4 + 67952*n**3 + 73008*n**2 + 29508*n + 2607', '-7225344*n**8 - 12558336*n**7 - 876544*n**6 + 8491008*n**5 + 5127168*n**4 + 890368*n**3') -> ('21840*n**5 + 63120*n**4 + 58976*n**3 + 15348*n**2 - 2925*n - 550', '-7225344*n**10 + 11870208*n**9 + 7790592*n**8 - 21516288*n**7 + 5676032*n**6 + 7635456*n**5 - 5004288*n**4 + 856064*n**3')\n",
      "PCF1:\n",
      " PCF(21840*n**4 + 67952*n**3 + 73008*n**2 + 29508*n + 2607 , n**3*(-7225344*n**5 - 12558336*n**4 - 876544*n**3 + 8491008*n**2 + 5127168*n + 890368))\n",
      "PCF2:\n",
      " PCF(21840*n**5 + 63120*n**4 + 58976*n**3 + 15348*n**2 - 2925*n - 550 , n**3*(-7225344*n**7 + 11870208*n**6 + 7790592*n**5 - 21516288*n**4 + 5676032*n**3 + 7635456*n**2 - 5004288*n + 856064))\n",
      "Fold1 transform:\n",
      " FoldToPCF(transforms : Fold(factor : 1) , AsPCF(U : Matrix([[1, 0], [0, 1]]), multiplier : 1))\n",
      "Fold2 transform:\n",
      " FoldToPCF(transforms : Fold(factor : 1) , AsPCF(U : Matrix([[1, 0], [0, 1]]), multiplier : 1))\n",
      "Coboundary transform:\n",
      " CobTransform(U : Matrix([[6048*n**5 - 16752*n**4 - 207664*n**3 + 205416*n**2 - 6318*n - 4995, 130056192*n**10 - 629637120*n**9 + 1272274944*n**8 - 1391837184*n**7 + 891140096*n**6 - 334362624*n**5 + 68172288*n**4 - 5834752*n**3], [25 - 18*n, -387072*n**6 + 1339392*n**5 - 1744896*n**4 + 1047040*n**3 - 264576*n**2 + 5760*n + 5632]]), multiplier : (336*n**5 - 1200*n**4 + 1648*n**3 - 1092*n**2 + 351*n - 44)/(336*n**4 + 880*n**3 + 816*n**2 + 324*n + 47))\n",
      "\n",
      "Fold1 ( PCF1 ):\n",
      "\n"
     ]
    },
    {
     "data": {
      "text/latex": [
       "$\\displaystyle \\left[\\begin{matrix}0 & n^{3} \\left(- 7225344 n^{5} - 12558336 n^{4} - 876544 n^{3} + 8491008 n^{2} + 5127168 n + 890368\\right)\\\\1 & 21840 n^{4} + 67952 n^{3} + 73008 n^{2} + 29508 n + 2607\\end{matrix}\\right]$"
      ],
      "text/plain": [
       "Matrix([\n",
       "[0, n**3*(-7225344*n**5 - 12558336*n**4 - 876544*n**3 + 8491008*n**2 + 5127168*n + 890368)],\n",
       "[1,                                  21840*n**4 + 67952*n**3 + 73008*n**2 + 29508*n + 2607]])"
      ]
     },
     "metadata": {},
     "output_type": "display_data"
    },
    {
     "name": "stdout",
     "output_type": "stream",
     "text": [
      "Coboundary ( Fold1 ( PCF1 ) ):\n",
      "\n"
     ]
    },
    {
     "data": {
      "text/latex": [
       "$\\displaystyle \\left[\\begin{matrix}0 & n^{3} \\left(- 7225344 n^{7} + 11870208 n^{6} + 7790592 n^{5} - 21516288 n^{4} + 5676032 n^{3} + 7635456 n^{2} - 5004288 n + 856064\\right)\\\\1 & 21840 n^{5} + 63120 n^{4} + 58976 n^{3} + 15348 n^{2} - 2925 n - 550\\end{matrix}\\right]$"
      ],
      "text/plain": [
       "Matrix([\n",
       "[0, n**3*(-7225344*n**7 + 11870208*n**6 + 7790592*n**5 - 21516288*n**4 + 5676032*n**3 + 7635456*n**2 - 5004288*n + 856064)],\n",
       "[1,                                                       21840*n**5 + 63120*n**4 + 58976*n**3 + 15348*n**2 - 2925*n - 550]])"
      ]
     },
     "metadata": {},
     "output_type": "display_data"
    },
    {
     "name": "stdout",
     "output_type": "stream",
     "text": [
      "==?==\n",
      "Fold2 ( PCF2 ):\n",
      "\n"
     ]
    },
    {
     "data": {
      "text/latex": [
       "$\\displaystyle \\left[\\begin{matrix}0 & n^{3} \\left(- 7225344 n^{7} + 11870208 n^{6} + 7790592 n^{5} - 21516288 n^{4} + 5676032 n^{3} + 7635456 n^{2} - 5004288 n + 856064\\right)\\\\1 & 21840 n^{5} + 63120 n^{4} + 58976 n^{3} + 15348 n^{2} - 2925 n - 550\\end{matrix}\\right]$"
      ],
      "text/plain": [
       "Matrix([\n",
       "[0, n**3*(-7225344*n**7 + 11870208*n**6 + 7790592*n**5 - 21516288*n**4 + 5676032*n**3 + 7635456*n**2 - 5004288*n + 856064)],\n",
       "[1,                                                       21840*n**5 + 63120*n**4 + 58976*n**3 + 15348*n**2 - 2925*n - 550]])"
      ]
     },
     "metadata": {},
     "output_type": "display_data"
    },
    {
     "name": "stdout",
     "output_type": "stream",
     "text": [
      "Success:\n",
      " True\n",
      "Check passed!\n",
      "\n",
      "\n"
     ]
    }
   ],
   "source": [
    "edges_to_check = random.sample(list(graph.edges), 1)\n",
    "\n",
    "for edge in edges_to_check:\n",
    "    truth = check_edge(graph, edge[0], edge[1], verbose=True)\n",
    "    if truth:\n",
    "        print(\"Check passed!\\n\\n\")\n",
    "    else:\n",
    "        print(\"Check failed!\\n\\n\")"
   ]
  },
  {
   "cell_type": "markdown",
   "id": "e47592db",
   "metadata": {},
   "source": [
    "# Derive equivalence and unification statistics"
   ]
  },
  {
   "cell_type": "code",
   "execution_count": 8,
   "id": "0661596d",
   "metadata": {},
   "outputs": [],
   "source": [
    "def get_arxiv_nodes(graph):\n",
    "    return [node for node in graph.nodes if graph.nodes[node].get('sources', False)]"
   ]
  },
  {
   "cell_type": "code",
   "execution_count": 9,
   "id": "e47a89e2",
   "metadata": {},
   "outputs": [
    {
     "data": {
      "text/plain": [
       "(149, 153)"
      ]
     },
     "execution_count": 9,
     "metadata": {},
     "output_type": "execute_result"
    }
   ],
   "source": [
    "arxiv_nodes = get_arxiv_nodes(graph)\n",
    "len(arxiv_nodes), len(graph.nodes)"
   ]
  },
  {
   "cell_type": "code",
   "execution_count": 10,
   "id": "847a080e",
   "metadata": {},
   "outputs": [
    {
     "data": {
      "text/plain": [
       "153"
      ]
     },
     "execution_count": 10,
     "metadata": {},
     "output_type": "execute_result"
    }
   ],
   "source": [
    "total_canonical_forms = len(arxiv_nodes) + 4    # + 4 order-3 canonical recurrences\n",
    "total_canonical_forms"
   ]
  },
  {
   "cell_type": "code",
   "execution_count": 11,
   "id": "b446b5db",
   "metadata": {},
   "outputs": [
    {
     "data": {
      "text/plain": [
       "407"
      ]
     },
     "execution_count": 11,
     "metadata": {},
     "output_type": "execute_result"
    }
   ],
   "source": [
    "total_formulas = len([s for node in arxiv_nodes for s in graph.nodes[node].get('sources', [])]) + 5      # + 5 order-3 canonical recurrences\n",
    "total_formulas"
   ]
  },
  {
   "cell_type": "markdown",
   "id": "62a4a9fb",
   "metadata": {},
   "source": [
    "4 nodes are purely from the CMF, and serve as roots for their connected components. (Not to be confused with 4 canonical form order-3 recurrences, which when added to the 149 canonical form order-2 recurrences from Table 4 also results in the number 153.)"
   ]
  },
  {
   "cell_type": "markdown",
   "id": "fa8cd3c4",
   "metadata": {},
   "source": [
    "**UMAPS success %**:"
   ]
  },
  {
   "cell_type": "code",
   "execution_count": 12,
   "id": "cc29d4ff",
   "metadata": {},
   "outputs": [],
   "source": [
    "def get_equiv_nodes(graph):\n",
    "    \"\"\"\n",
    "    Nodes that are equivalent to at least one other formula or unified in the CMF.\n",
    "    This shows how many formulas have been found equivalent to at least one other formula.\n",
    "    \"\"\"\n",
    "    graph = remove_unsuccessful_edges(graph)\n",
    "    \n",
    "    equiv_nodes = []\n",
    "    \n",
    "    for comp in nx.weakly_connected_components(graph):\n",
    "\n",
    "        if len(comp) == 1:\n",
    "            node = list(comp)[0]\n",
    "            if (graph.nodes[node].get('sources', False) and \\\n",
    "                graph.nodes[node].get('cmf_sources', False)):\n",
    "                equiv_nodes.append(node)\n",
    "        elif len(comp) > 1:\n",
    "            equiv_nodes.extend([node for node in comp if graph.nodes()[node].get('sources', False)])\n",
    "    \n",
    "    return equiv_nodes"
   ]
  },
  {
   "cell_type": "code",
   "execution_count": 13,
   "id": "575da2e2",
   "metadata": {},
   "outputs": [
    {
     "data": {
      "text/plain": [
       "136"
      ]
     },
     "execution_count": 13,
     "metadata": {},
     "output_type": "execute_result"
    }
   ],
   "source": [
    "equiv_nodes = get_equiv_nodes(graph)\n",
    "len(equiv_nodes)"
   ]
  },
  {
   "cell_type": "markdown",
   "id": "dac4894a",
   "metadata": {},
   "source": [
    "In terms of canonical forms"
   ]
  },
  {
   "cell_type": "code",
   "execution_count": 14,
   "id": "533014db",
   "metadata": {},
   "outputs": [
    {
     "data": {
      "text/plain": [
       "0.8888888888888888"
      ]
     },
     "execution_count": 14,
     "metadata": {},
     "output_type": "execute_result"
    }
   ],
   "source": [
    "len(equiv_nodes) / total_canonical_forms # 89 %"
   ]
  },
  {
   "cell_type": "markdown",
   "id": "0e2d09d3",
   "metadata": {},
   "source": [
    "In terms of formula counts"
   ]
  },
  {
   "cell_type": "code",
   "execution_count": 15,
   "id": "85b658ef",
   "metadata": {},
   "outputs": [
    {
     "data": {
      "text/plain": [
       "382"
      ]
     },
     "execution_count": 15,
     "metadata": {},
     "output_type": "execute_result"
    }
   ],
   "source": [
    "equiv_formulas = len([s for node in equiv_nodes for s in graph.nodes[node].get('sources', [])]) + 2    # + 2 order-3 canonical recurrences\n",
    "equiv_formulas"
   ]
  },
  {
   "cell_type": "code",
   "execution_count": 16,
   "id": "49f76987",
   "metadata": {},
   "outputs": [
    {
     "data": {
      "text/plain": [
       "0.9385749385749386"
      ]
     },
     "execution_count": 16,
     "metadata": {},
     "output_type": "execute_result"
    }
   ],
   "source": [
    "equiv_formulas / total_formulas # 94 %"
   ]
  },
  {
   "cell_type": "markdown",
   "id": "ca913b8b",
   "metadata": {},
   "source": [
    "**Unification %**"
   ]
  },
  {
   "cell_type": "code",
   "execution_count": 17,
   "id": "8274bef8",
   "metadata": {},
   "outputs": [],
   "source": [
    "def get_unified_nodes(graph, verbose=False):\n",
    "    graph = remove_unsuccessful_edges(graph)\n",
    "    \n",
    "    unified_nodes = []\n",
    "    \n",
    "    for comp in sorted(nx.weakly_connected_components(graph), key=len, reverse=True):\n",
    "        if verbose:\n",
    "            print('comp size:', len(comp), end='\\n\\n')\n",
    "        cmf_nodes = [node for node in comp if graph.nodes[node].get('cmf_sources', False)]\n",
    "        if cmf_nodes:\n",
    "            nodes_in_comp = [node for node in comp if graph.nodes[node].get('sources', False)]\n",
    "            unified_nodes.extend(nodes_in_comp)\n",
    "            if verbose:\n",
    "                print('    --> is cmf comp:', len(nodes_in_comp)) #, graph.nodes[cmf_nodes[0]]['cmf_sources'][0])\n",
    "                print('        delta:', graph.nodes[cmf_nodes[0]]['delta'], end='\\n\\n')\n",
    "    \n",
    "    return unified_nodes"
   ]
  },
  {
   "cell_type": "code",
   "execution_count": 18,
   "id": "a01db122",
   "metadata": {},
   "outputs": [
    {
     "data": {
      "text/plain": [
       "81"
      ]
     },
     "execution_count": 18,
     "metadata": {},
     "output_type": "execute_result"
    }
   ],
   "source": [
    "unified_nodes = get_unified_nodes(graph, verbose=False)\n",
    "len(unified_nodes)"
   ]
  },
  {
   "cell_type": "markdown",
   "id": "5799cec4",
   "metadata": {},
   "source": [
    "In terms of canonical forms"
   ]
  },
  {
   "cell_type": "code",
   "execution_count": 19,
   "id": "1a78908e",
   "metadata": {},
   "outputs": [
    {
     "data": {
      "text/plain": [
       "0.5294117647058824"
      ]
     },
     "execution_count": 19,
     "metadata": {},
     "output_type": "execute_result"
    }
   ],
   "source": [
    "len(unified_nodes) / total_canonical_forms # 53 %"
   ]
  },
  {
   "cell_type": "markdown",
   "id": "3521af30",
   "metadata": {},
   "source": [
    "In terms of formula counts"
   ]
  },
  {
   "cell_type": "code",
   "execution_count": 20,
   "id": "3930826e",
   "metadata": {},
   "outputs": [
    {
     "data": {
      "text/plain": [
       "188"
      ]
     },
     "execution_count": 20,
     "metadata": {},
     "output_type": "execute_result"
    }
   ],
   "source": [
    "unified_formulas = [s for node in unified_nodes for s in graph.nodes[node]['sources']]\n",
    "len(unified_formulas)"
   ]
  },
  {
   "cell_type": "code",
   "execution_count": 21,
   "id": "37d0eef5",
   "metadata": {},
   "outputs": [
    {
     "data": {
      "text/plain": [
       "0.4619164619164619"
      ]
     },
     "execution_count": 21,
     "metadata": {},
     "output_type": "execute_result"
    }
   ],
   "source": [
    "len(unified_formulas) / total_formulas # 46 %"
   ]
  },
  {
   "cell_type": "markdown",
   "id": "20d219ca",
   "metadata": {},
   "source": [
    "# Visualize the coboundary graph"
   ]
  },
  {
   "cell_type": "markdown",
   "id": "36bec550",
   "metadata": {},
   "source": [
    "Connected components that have either a red (CMF representative) or purple (both CMF and arXiv formula) node are *unified*:"
   ]
  },
  {
   "cell_type": "code",
   "execution_count": null,
   "id": "067a9ef0",
   "metadata": {},
   "outputs": [],
   "source": [
    "for subgraph in sorted(list(nx.weakly_connected_components(graph)), key=len, reverse=True):\n",
    "    subgraph = graph.subgraph(subgraph)\n",
    "    if len(subgraph.nodes) >= 2:\n",
    "        \n",
    "        print(f\"Subgraph with {len(subgraph.nodes())} nodes and {len(subgraph.edges())} edges and {len(list(nx.weakly_connected_components(subgraph)))} cc\")\n",
    "\n",
    "        plt.figure(figsize=(20, 20))\n",
    "        pos = nx.spring_layout(subgraph, k=1.5, iterations=100)\n",
    "\n",
    "        # use red for nodes with 'cmf_sources' attribute but no 'sources' attribute\n",
    "        # (i.e., CMF nodes)\n",
    "        cmf_nodes = [node for node in subgraph.nodes if subgraph.nodes[node].get('cmf_sources', False)\n",
    "                     and not subgraph.nodes[node].get('sources', False)]\n",
    "        nx.draw_networkx_nodes(subgraph, pos, nodelist=cmf_nodes, node_color='red', node_size=100, linewidths=0.5)\n",
    "\n",
    "        # use purple for nodes with 'cmf_sources' attribute and 'sources' attribute\n",
    "        # (i.e., self-unifying nodes)\n",
    "        self_unifying_nodes = [node for node in subgraph.nodes if subgraph.nodes[node].get('cmf_sources', False)\n",
    "                              and subgraph.nodes[node].get('sources', False)]\n",
    "        nx.draw_networkx_nodes(subgraph, pos, nodelist=self_unifying_nodes, node_color='purple', node_size=100, linewidths=0.5)\n",
    "\n",
    "        # use blue for nodes without 'cmf_sources' attribute and with 'sources' attribute\n",
    "        # (i.e., non-CMF, arXiv nodes)\n",
    "        non_cmf_nodes_with_sources = [node for node in subgraph.nodes if not subgraph.nodes[node].get('cmf_sources', False)\n",
    "                                      and subgraph.nodes[node].get('sources', False)]\n",
    "        nx.draw_networkx_nodes(subgraph, pos, nodelist=non_cmf_nodes_with_sources, node_color='blue', node_size=100, linewidths=0.5)\n",
    "\n",
    "        nx.draw_networkx_labels(subgraph, pos)\n",
    "        edges_with_transformation = [\n",
    "            (u, v) for u, v, d in subgraph.edges(data=True)\n",
    "            if d.get('transformation') is not None\n",
    "        ]\n",
    "        nx.draw_networkx_edges(subgraph, pos, edgelist=edges_with_transformation)\n",
    "\n",
    "        plt.axis('off')\n",
    "        plt.show()"
   ]
  }
 ],
 "metadata": {
  "kernelspec": {
   "display_name": "unifier",
   "language": "python",
   "name": "python3"
  },
  "language_info": {
   "codemirror_mode": {
    "name": "ipython",
    "version": 3
   },
   "file_extension": ".py",
   "mimetype": "text/x-python",
   "name": "python",
   "nbconvert_exporter": "python",
   "pygments_lexer": "ipython3",
   "version": "3.13.2"
  }
 },
 "nbformat": 4,
 "nbformat_minor": 5
}
